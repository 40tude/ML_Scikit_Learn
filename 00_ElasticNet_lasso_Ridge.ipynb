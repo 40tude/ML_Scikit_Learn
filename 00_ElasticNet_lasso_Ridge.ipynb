{
 "cells": [
  {
   "cell_type": "code",
   "execution_count": 7,
   "metadata": {},
   "outputs": [
    {
     "name": "stdout",
     "output_type": "stream",
     "text": [
      "MSE Elastic Net: 2342.573760627881\n",
      "MSE Lasso: 4.496453937242174\n",
      "MSE Ridge: 3.2745653458619386\n"
     ]
    }
   ],
   "source": [
    "from sklearn.model_selection import train_test_split\n",
    "from sklearn.linear_model import ElasticNet, Lasso, Ridge\n",
    "from sklearn.metrics import mean_squared_error\n",
    "from sklearn.preprocessing import StandardScaler\n",
    "from sklearn.datasets import make_regression\n",
    "\n",
    "# Générer des données de régression synthétiques\n",
    "X, y = make_regression(n_samples=100, n_features=5, noise=0.1, random_state=42)\n",
    "\n",
    "# Diviser les données en ensembles d'entraînement et de test\n",
    "X_train, X_test, y_train, y_test = train_test_split(X, y, test_size=0.2, random_state=42)\n",
    "\n",
    "# Normaliser les données\n",
    "scaler = StandardScaler()\n",
    "X_train_scaled = scaler.fit_transform(X_train)\n",
    "X_test_scaled = scaler.transform(X_test)\n",
    "\n",
    "# Modèles\n",
    "elastic_net = ElasticNet(alpha=1.0, l1_ratio=0.5)\n",
    "lasso = Lasso(alpha=1.0)\n",
    "ridge = Ridge(alpha=1.0)\n",
    "\n",
    "# Ajuster les modèles aux données d'entraînement\n",
    "elastic_net.fit(X_train_scaled, y_train)\n",
    "lasso.fit(X_train_scaled, y_train)\n",
    "ridge.fit(X_train_scaled, y_train)\n",
    "\n",
    "# Faire des prédictions sur les données de test\n",
    "y_pred_elastic_net = elastic_net.predict(X_test_scaled)\n",
    "y_pred_lasso = lasso.predict(X_test_scaled)\n",
    "y_pred_ridge = ridge.predict(X_test_scaled)\n",
    "\n",
    "# Évaluer la performance des modèles\n",
    "mse_elastic_net = mean_squared_error(y_test, y_pred_elastic_net)\n",
    "mse_lasso = mean_squared_error(y_test, y_pred_lasso)\n",
    "mse_ridge = mean_squared_error(y_test, y_pred_ridge)\n",
    "\n",
    "print(\"MSE Elastic Net:\", mse_elastic_net)\n",
    "print(\"MSE Lasso:\", mse_lasso)\n",
    "print(\"MSE Ridge:\", mse_ridge)\n"
   ]
  }
 ],
 "metadata": {
  "kernelspec": {
   "display_name": "base",
   "language": "python",
   "name": "python3"
  },
  "language_info": {
   "codemirror_mode": {
    "name": "ipython",
    "version": 3
   },
   "file_extension": ".py",
   "mimetype": "text/x-python",
   "name": "python",
   "nbconvert_exporter": "python",
   "pygments_lexer": "ipython3",
   "version": "3.11.5"
  }
 },
 "nbformat": 4,
 "nbformat_minor": 2
}
